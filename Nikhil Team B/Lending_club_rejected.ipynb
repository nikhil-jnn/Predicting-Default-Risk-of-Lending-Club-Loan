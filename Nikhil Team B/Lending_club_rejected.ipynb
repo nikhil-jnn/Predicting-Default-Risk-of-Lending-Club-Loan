{
 "cells": [
  {
   "cell_type": "code",
   "execution_count": 1,
   "id": "f0dbf7b5",
   "metadata": {},
   "outputs": [],
   "source": [
    "import numpy as np\n",
    "import pandas as pd\n",
    "import datetime as dt"
   ]
  },
  {
   "cell_type": "code",
   "execution_count": 2,
   "id": "f2b57333",
   "metadata": {},
   "outputs": [
    {
     "data": {
      "text/html": [
       "<div>\n",
       "<style scoped>\n",
       "    .dataframe tbody tr th:only-of-type {\n",
       "        vertical-align: middle;\n",
       "    }\n",
       "\n",
       "    .dataframe tbody tr th {\n",
       "        vertical-align: top;\n",
       "    }\n",
       "\n",
       "    .dataframe thead th {\n",
       "        text-align: right;\n",
       "    }\n",
       "</style>\n",
       "<table border=\"1\" class=\"dataframe\">\n",
       "  <thead>\n",
       "    <tr style=\"text-align: right;\">\n",
       "      <th></th>\n",
       "      <th>Amount Requested</th>\n",
       "      <th>Application Date</th>\n",
       "      <th>Loan Title</th>\n",
       "      <th>Risk_Score</th>\n",
       "      <th>Debt-To-Income Ratio</th>\n",
       "      <th>Zip Code</th>\n",
       "      <th>State</th>\n",
       "      <th>Employment Length</th>\n",
       "      <th>Policy Code</th>\n",
       "    </tr>\n",
       "  </thead>\n",
       "  <tbody>\n",
       "    <tr>\n",
       "      <th>0</th>\n",
       "      <td>1000.0</td>\n",
       "      <td>2007-05-26</td>\n",
       "      <td>Wedding Covered but No Honeymoon</td>\n",
       "      <td>693.0</td>\n",
       "      <td>10%</td>\n",
       "      <td>481xx</td>\n",
       "      <td>NM</td>\n",
       "      <td>4 years</td>\n",
       "      <td>0.0</td>\n",
       "    </tr>\n",
       "    <tr>\n",
       "      <th>1</th>\n",
       "      <td>1000.0</td>\n",
       "      <td>2007-05-26</td>\n",
       "      <td>Consolidating Debt</td>\n",
       "      <td>703.0</td>\n",
       "      <td>10%</td>\n",
       "      <td>010xx</td>\n",
       "      <td>MA</td>\n",
       "      <td>&lt; 1 year</td>\n",
       "      <td>0.0</td>\n",
       "    </tr>\n",
       "    <tr>\n",
       "      <th>2</th>\n",
       "      <td>11000.0</td>\n",
       "      <td>2007-05-27</td>\n",
       "      <td>Want to consolidate my debt</td>\n",
       "      <td>715.0</td>\n",
       "      <td>10%</td>\n",
       "      <td>212xx</td>\n",
       "      <td>MD</td>\n",
       "      <td>1 year</td>\n",
       "      <td>0.0</td>\n",
       "    </tr>\n",
       "    <tr>\n",
       "      <th>3</th>\n",
       "      <td>6000.0</td>\n",
       "      <td>2007-05-27</td>\n",
       "      <td>waksman</td>\n",
       "      <td>698.0</td>\n",
       "      <td>38.64%</td>\n",
       "      <td>017xx</td>\n",
       "      <td>MA</td>\n",
       "      <td>&lt; 1 year</td>\n",
       "      <td>0.0</td>\n",
       "    </tr>\n",
       "    <tr>\n",
       "      <th>4</th>\n",
       "      <td>1500.0</td>\n",
       "      <td>2007-05-27</td>\n",
       "      <td>mdrigo</td>\n",
       "      <td>509.0</td>\n",
       "      <td>9.43%</td>\n",
       "      <td>209xx</td>\n",
       "      <td>MD</td>\n",
       "      <td>&lt; 1 year</td>\n",
       "      <td>0.0</td>\n",
       "    </tr>\n",
       "  </tbody>\n",
       "</table>\n",
       "</div>"
      ],
      "text/plain": [
       "   Amount Requested Application Date                        Loan Title  \\\n",
       "0            1000.0       2007-05-26  Wedding Covered but No Honeymoon   \n",
       "1            1000.0       2007-05-26                Consolidating Debt   \n",
       "2           11000.0       2007-05-27       Want to consolidate my debt   \n",
       "3            6000.0       2007-05-27                           waksman   \n",
       "4            1500.0       2007-05-27                            mdrigo   \n",
       "\n",
       "   Risk_Score Debt-To-Income Ratio Zip Code State Employment Length  \\\n",
       "0       693.0                  10%    481xx    NM           4 years   \n",
       "1       703.0                  10%    010xx    MA          < 1 year   \n",
       "2       715.0                  10%    212xx    MD            1 year   \n",
       "3       698.0               38.64%    017xx    MA          < 1 year   \n",
       "4       509.0                9.43%    209xx    MD          < 1 year   \n",
       "\n",
       "   Policy Code  \n",
       "0          0.0  \n",
       "1          0.0  \n",
       "2          0.0  \n",
       "3          0.0  \n",
       "4          0.0  "
      ]
     },
     "execution_count": 2,
     "metadata": {},
     "output_type": "execute_result"
    }
   ],
   "source": [
    "lc = pd.read_csv('rejected_2007_to_2018Q4.csv', delimiter = ',')\n",
    "lc.head()"
   ]
  },
  {
   "cell_type": "code",
   "execution_count": 3,
   "id": "6d405d26",
   "metadata": {},
   "outputs": [
    {
     "data": {
      "text/plain": [
       "(27648741, 9)"
      ]
     },
     "execution_count": 3,
     "metadata": {},
     "output_type": "execute_result"
    }
   ],
   "source": [
    "lc.shape"
   ]
  },
  {
   "cell_type": "code",
   "execution_count": 4,
   "id": "4adef00d",
   "metadata": {},
   "outputs": [],
   "source": [
    "del2 = lc.drop('Loan Title', axis = 1, inplace= True)"
   ]
  },
  {
   "cell_type": "code",
   "execution_count": 5,
   "id": "fbb33bc2",
   "metadata": {},
   "outputs": [
    {
     "data": {
      "text/plain": [
       "Amount Requested               0\n",
       "Application Date               0\n",
       "Risk_Score              18497630\n",
       "Debt-To-Income Ratio           0\n",
       "Zip Code                     293\n",
       "State                         22\n",
       "Employment Length         951355\n",
       "Policy Code                  918\n",
       "dtype: int64"
      ]
     },
     "execution_count": 5,
     "metadata": {},
     "output_type": "execute_result"
    }
   ],
   "source": [
    "missing_values = lc.isnull().sum()\n",
    "missing_values [0:10]"
   ]
  },
  {
   "cell_type": "code",
   "execution_count": 6,
   "id": "333de9ff",
   "metadata": {},
   "outputs": [
    {
     "name": "stdout",
     "output_type": "stream",
     "text": [
      "         Amount Requested Application Date  Risk_Score Debt-To-Income Ratio  \\\n",
      "4166782           20000.0       2017-03-16         NaN               37.95%   \n",
      "4167136           20000.0       2017-03-16         NaN               37.17%   \n",
      "4167157           13000.0       2017-03-16       739.0               37.28%   \n",
      "4168511           21000.0       2017-03-16         NaN               37.42%   \n",
      "4168629           30000.0       2017-03-16       663.0               36.03%   \n",
      "...                   ...              ...         ...                  ...   \n",
      "4402401           35000.0       2017-03-31       731.0                35.7%   \n",
      "4402559           40000.0       2017-03-31       634.0               37.84%   \n",
      "4402657            1000.0       2017-03-31         NaN               36.15%   \n",
      "4403807           10000.0       2017-03-31         NaN               38.81%   \n",
      "4404341            8000.0       2017-03-31         NaN               37.48%   \n",
      "\n",
      "        Zip Code State Employment Length  Policy Code  \n",
      "4166782    370xx    TN         10+ years          NaN  \n",
      "4167136    864xx    AZ               NaN          NaN  \n",
      "4167157    142xx    NY           8 years          NaN  \n",
      "4168511    750xx    TX         10+ years          NaN  \n",
      "4168629    103xx    NY           5 years          NaN  \n",
      "...          ...   ...               ...          ...  \n",
      "4402401    992xx    WA         10+ years          NaN  \n",
      "4402559    301xx    GA         10+ years          NaN  \n",
      "4402657    670xx    KS         10+ years          NaN  \n",
      "4403807    604xx    IL         10+ years          NaN  \n",
      "4404341    914xx    CA         10+ years          NaN  \n",
      "\n",
      "[918 rows x 8 columns]\n"
     ]
    }
   ],
   "source": [
    "print(lc[lc['Policy Code'].isna()])"
   ]
  },
  {
   "cell_type": "markdown",
   "id": "fed4ccdd",
   "metadata": {},
   "source": [
    "### Filling null values with 3 as Policy Code"
   ]
  },
  {
   "cell_type": "code",
   "execution_count": 7,
   "id": "250cb443",
   "metadata": {},
   "outputs": [],
   "source": [
    "fill_1 = lc['Policy Code'].fillna(3,inplace= True)"
   ]
  },
  {
   "cell_type": "code",
   "execution_count": 8,
   "id": "b103efad",
   "metadata": {},
   "outputs": [
    {
     "data": {
      "text/plain": [
       "Amount Requested               0\n",
       "Application Date               0\n",
       "Risk_Score              18497630\n",
       "Debt-To-Income Ratio           0\n",
       "Zip Code                     293\n",
       "State                         22\n",
       "Employment Length         951355\n",
       "Policy Code                    0\n",
       "dtype: int64"
      ]
     },
     "execution_count": 8,
     "metadata": {},
     "output_type": "execute_result"
    }
   ],
   "source": [
    "missing_values = lc.isnull().sum()\n",
    "missing_values [0:10]"
   ]
  },
  {
   "cell_type": "code",
   "execution_count": 9,
   "id": "5c9f417a",
   "metadata": {},
   "outputs": [],
   "source": [
    "lc['Policy Code'] = lc['Policy Code'].astype('Int64')"
   ]
  },
  {
   "cell_type": "code",
   "execution_count": 10,
   "id": "ca6b2d15",
   "metadata": {
    "scrolled": true
   },
   "outputs": [
    {
     "data": {
      "text/html": [
       "<div>\n",
       "<style scoped>\n",
       "    .dataframe tbody tr th:only-of-type {\n",
       "        vertical-align: middle;\n",
       "    }\n",
       "\n",
       "    .dataframe tbody tr th {\n",
       "        vertical-align: top;\n",
       "    }\n",
       "\n",
       "    .dataframe thead th {\n",
       "        text-align: right;\n",
       "    }\n",
       "</style>\n",
       "<table border=\"1\" class=\"dataframe\">\n",
       "  <thead>\n",
       "    <tr style=\"text-align: right;\">\n",
       "      <th></th>\n",
       "      <th>Amount Requested</th>\n",
       "      <th>Application Date</th>\n",
       "      <th>Risk_Score</th>\n",
       "      <th>Debt-To-Income Ratio</th>\n",
       "      <th>Zip Code</th>\n",
       "      <th>State</th>\n",
       "      <th>Employment Length</th>\n",
       "      <th>Policy Code</th>\n",
       "    </tr>\n",
       "  </thead>\n",
       "  <tbody>\n",
       "    <tr>\n",
       "      <th>0</th>\n",
       "      <td>1000.0</td>\n",
       "      <td>2007-05-26</td>\n",
       "      <td>693.0</td>\n",
       "      <td>10%</td>\n",
       "      <td>481xx</td>\n",
       "      <td>NM</td>\n",
       "      <td>4 years</td>\n",
       "      <td>0</td>\n",
       "    </tr>\n",
       "    <tr>\n",
       "      <th>1</th>\n",
       "      <td>1000.0</td>\n",
       "      <td>2007-05-26</td>\n",
       "      <td>703.0</td>\n",
       "      <td>10%</td>\n",
       "      <td>010xx</td>\n",
       "      <td>MA</td>\n",
       "      <td>&lt; 1 year</td>\n",
       "      <td>0</td>\n",
       "    </tr>\n",
       "    <tr>\n",
       "      <th>2</th>\n",
       "      <td>11000.0</td>\n",
       "      <td>2007-05-27</td>\n",
       "      <td>715.0</td>\n",
       "      <td>10%</td>\n",
       "      <td>212xx</td>\n",
       "      <td>MD</td>\n",
       "      <td>1 year</td>\n",
       "      <td>0</td>\n",
       "    </tr>\n",
       "    <tr>\n",
       "      <th>3</th>\n",
       "      <td>6000.0</td>\n",
       "      <td>2007-05-27</td>\n",
       "      <td>698.0</td>\n",
       "      <td>38.64%</td>\n",
       "      <td>017xx</td>\n",
       "      <td>MA</td>\n",
       "      <td>&lt; 1 year</td>\n",
       "      <td>0</td>\n",
       "    </tr>\n",
       "    <tr>\n",
       "      <th>4</th>\n",
       "      <td>1500.0</td>\n",
       "      <td>2007-05-27</td>\n",
       "      <td>509.0</td>\n",
       "      <td>9.43%</td>\n",
       "      <td>209xx</td>\n",
       "      <td>MD</td>\n",
       "      <td>&lt; 1 year</td>\n",
       "      <td>0</td>\n",
       "    </tr>\n",
       "  </tbody>\n",
       "</table>\n",
       "</div>"
      ],
      "text/plain": [
       "   Amount Requested Application Date  Risk_Score Debt-To-Income Ratio  \\\n",
       "0            1000.0       2007-05-26       693.0                  10%   \n",
       "1            1000.0       2007-05-26       703.0                  10%   \n",
       "2           11000.0       2007-05-27       715.0                  10%   \n",
       "3            6000.0       2007-05-27       698.0               38.64%   \n",
       "4            1500.0       2007-05-27       509.0                9.43%   \n",
       "\n",
       "  Zip Code State Employment Length  Policy Code  \n",
       "0    481xx    NM           4 years            0  \n",
       "1    010xx    MA          < 1 year            0  \n",
       "2    212xx    MD            1 year            0  \n",
       "3    017xx    MA          < 1 year            0  \n",
       "4    209xx    MD          < 1 year            0  "
      ]
     },
     "execution_count": 10,
     "metadata": {},
     "output_type": "execute_result"
    }
   ],
   "source": [
    "lc.head()"
   ]
  },
  {
   "cell_type": "code",
   "execution_count": 11,
   "id": "91c42bc6",
   "metadata": {},
   "outputs": [
    {
     "data": {
      "text/plain": [
       "8.793031480167578"
      ]
     },
     "execution_count": 11,
     "metadata": {},
     "output_type": "execute_result"
    }
   ],
   "source": [
    "miss_val = (((lc.isnull().sum()).sum())/lc.size)*100\n",
    "miss_val"
   ]
  },
  {
   "cell_type": "code",
   "execution_count": 12,
   "id": "6a589286",
   "metadata": {},
   "outputs": [
    {
     "data": {
      "text/html": [
       "<div>\n",
       "<style scoped>\n",
       "    .dataframe tbody tr th:only-of-type {\n",
       "        vertical-align: middle;\n",
       "    }\n",
       "\n",
       "    .dataframe tbody tr th {\n",
       "        vertical-align: top;\n",
       "    }\n",
       "\n",
       "    .dataframe thead th {\n",
       "        text-align: right;\n",
       "    }\n",
       "</style>\n",
       "<table border=\"1\" class=\"dataframe\">\n",
       "  <thead>\n",
       "    <tr style=\"text-align: right;\">\n",
       "      <th></th>\n",
       "      <th>Amount Requested</th>\n",
       "      <th>Application Date</th>\n",
       "      <th>Risk_Score</th>\n",
       "      <th>Debt-To-Income Ratio</th>\n",
       "      <th>Zip Code</th>\n",
       "      <th>State</th>\n",
       "      <th>Employment Length</th>\n",
       "      <th>Policy Code</th>\n",
       "    </tr>\n",
       "  </thead>\n",
       "  <tbody>\n",
       "    <tr>\n",
       "      <th>0</th>\n",
       "      <td>1000.0</td>\n",
       "      <td>2007-05-26</td>\n",
       "      <td>693.0</td>\n",
       "      <td>10%</td>\n",
       "      <td>481xx</td>\n",
       "      <td>NM</td>\n",
       "      <td>4 years</td>\n",
       "      <td>0</td>\n",
       "    </tr>\n",
       "    <tr>\n",
       "      <th>1</th>\n",
       "      <td>1000.0</td>\n",
       "      <td>2007-05-26</td>\n",
       "      <td>703.0</td>\n",
       "      <td>10%</td>\n",
       "      <td>010xx</td>\n",
       "      <td>MA</td>\n",
       "      <td>&lt; 1 year</td>\n",
       "      <td>0</td>\n",
       "    </tr>\n",
       "    <tr>\n",
       "      <th>2</th>\n",
       "      <td>11000.0</td>\n",
       "      <td>2007-05-27</td>\n",
       "      <td>715.0</td>\n",
       "      <td>10%</td>\n",
       "      <td>212xx</td>\n",
       "      <td>MD</td>\n",
       "      <td>1 year</td>\n",
       "      <td>0</td>\n",
       "    </tr>\n",
       "    <tr>\n",
       "      <th>3</th>\n",
       "      <td>6000.0</td>\n",
       "      <td>2007-05-27</td>\n",
       "      <td>698.0</td>\n",
       "      <td>38.64%</td>\n",
       "      <td>017xx</td>\n",
       "      <td>MA</td>\n",
       "      <td>&lt; 1 year</td>\n",
       "      <td>0</td>\n",
       "    </tr>\n",
       "    <tr>\n",
       "      <th>4</th>\n",
       "      <td>1500.0</td>\n",
       "      <td>2007-05-27</td>\n",
       "      <td>509.0</td>\n",
       "      <td>9.43%</td>\n",
       "      <td>209xx</td>\n",
       "      <td>MD</td>\n",
       "      <td>&lt; 1 year</td>\n",
       "      <td>0</td>\n",
       "    </tr>\n",
       "  </tbody>\n",
       "</table>\n",
       "</div>"
      ],
      "text/plain": [
       "   Amount Requested Application Date  Risk_Score Debt-To-Income Ratio  \\\n",
       "0            1000.0       2007-05-26       693.0                  10%   \n",
       "1            1000.0       2007-05-26       703.0                  10%   \n",
       "2           11000.0       2007-05-27       715.0                  10%   \n",
       "3            6000.0       2007-05-27       698.0               38.64%   \n",
       "4            1500.0       2007-05-27       509.0                9.43%   \n",
       "\n",
       "  Zip Code State Employment Length  Policy Code  \n",
       "0    481xx    NM           4 years            0  \n",
       "1    010xx    MA          < 1 year            0  \n",
       "2    212xx    MD            1 year            0  \n",
       "3    017xx    MA          < 1 year            0  \n",
       "4    209xx    MD          < 1 year            0  "
      ]
     },
     "execution_count": 12,
     "metadata": {},
     "output_type": "execute_result"
    }
   ],
   "source": [
    "lc.head()"
   ]
  },
  {
   "cell_type": "markdown",
   "id": "e86caf75",
   "metadata": {},
   "source": [
    "### Calculating null values % of each column"
   ]
  },
  {
   "cell_type": "code",
   "execution_count": 13,
   "id": "1667f949",
   "metadata": {},
   "outputs": [
    {
     "name": "stdout",
     "output_type": "stream",
     "text": [
      "Amount Requested         0.00\n",
      "Application Date         0.00\n",
      "Risk_Score              66.90\n",
      "Debt-To-Income Ratio     0.00\n",
      "Zip Code                 0.00\n",
      "State                    0.00\n",
      "Employment Length        3.44\n",
      "Policy Code              0.00\n",
      "dtype: float64\n"
     ]
    }
   ],
   "source": [
    "d = np.where(lc.isnull().sum(axis=1)>10)\n",
    "lc = lc.drop(lc.index[d])\n",
    "print(round(100*(1-lc.count()/len(lc)),2))"
   ]
  },
  {
   "cell_type": "markdown",
   "id": "29354e79",
   "metadata": {},
   "source": [
    "### Changed Datatype of emp_length column and reformatiing it"
   ]
  },
  {
   "cell_type": "code",
   "execution_count": 14,
   "id": "8b6b3f21",
   "metadata": {},
   "outputs": [],
   "source": [
    "lc_final = lc"
   ]
  },
  {
   "cell_type": "code",
   "execution_count": 15,
   "id": "433c329a",
   "metadata": {},
   "outputs": [
    {
     "data": {
      "text/html": [
       "<div>\n",
       "<style scoped>\n",
       "    .dataframe tbody tr th:only-of-type {\n",
       "        vertical-align: middle;\n",
       "    }\n",
       "\n",
       "    .dataframe tbody tr th {\n",
       "        vertical-align: top;\n",
       "    }\n",
       "\n",
       "    .dataframe thead th {\n",
       "        text-align: right;\n",
       "    }\n",
       "</style>\n",
       "<table border=\"1\" class=\"dataframe\">\n",
       "  <thead>\n",
       "    <tr style=\"text-align: right;\">\n",
       "      <th></th>\n",
       "      <th>Amount Requested</th>\n",
       "      <th>Application Date</th>\n",
       "      <th>Risk_Score</th>\n",
       "      <th>Debt-To-Income Ratio</th>\n",
       "      <th>Zip Code</th>\n",
       "      <th>State</th>\n",
       "      <th>Employment Length</th>\n",
       "      <th>Policy Code</th>\n",
       "    </tr>\n",
       "  </thead>\n",
       "  <tbody>\n",
       "    <tr>\n",
       "      <th>0</th>\n",
       "      <td>1000.0</td>\n",
       "      <td>2007-05-26</td>\n",
       "      <td>693.0</td>\n",
       "      <td>10%</td>\n",
       "      <td>481xx</td>\n",
       "      <td>NM</td>\n",
       "      <td>4 years</td>\n",
       "      <td>0</td>\n",
       "    </tr>\n",
       "    <tr>\n",
       "      <th>1</th>\n",
       "      <td>1000.0</td>\n",
       "      <td>2007-05-26</td>\n",
       "      <td>703.0</td>\n",
       "      <td>10%</td>\n",
       "      <td>010xx</td>\n",
       "      <td>MA</td>\n",
       "      <td>&lt; 1 year</td>\n",
       "      <td>0</td>\n",
       "    </tr>\n",
       "    <tr>\n",
       "      <th>2</th>\n",
       "      <td>11000.0</td>\n",
       "      <td>2007-05-27</td>\n",
       "      <td>715.0</td>\n",
       "      <td>10%</td>\n",
       "      <td>212xx</td>\n",
       "      <td>MD</td>\n",
       "      <td>1 year</td>\n",
       "      <td>0</td>\n",
       "    </tr>\n",
       "    <tr>\n",
       "      <th>3</th>\n",
       "      <td>6000.0</td>\n",
       "      <td>2007-05-27</td>\n",
       "      <td>698.0</td>\n",
       "      <td>38.64%</td>\n",
       "      <td>017xx</td>\n",
       "      <td>MA</td>\n",
       "      <td>&lt; 1 year</td>\n",
       "      <td>0</td>\n",
       "    </tr>\n",
       "    <tr>\n",
       "      <th>4</th>\n",
       "      <td>1500.0</td>\n",
       "      <td>2007-05-27</td>\n",
       "      <td>509.0</td>\n",
       "      <td>9.43%</td>\n",
       "      <td>209xx</td>\n",
       "      <td>MD</td>\n",
       "      <td>&lt; 1 year</td>\n",
       "      <td>0</td>\n",
       "    </tr>\n",
       "  </tbody>\n",
       "</table>\n",
       "</div>"
      ],
      "text/plain": [
       "   Amount Requested Application Date  Risk_Score Debt-To-Income Ratio  \\\n",
       "0            1000.0       2007-05-26       693.0                  10%   \n",
       "1            1000.0       2007-05-26       703.0                  10%   \n",
       "2           11000.0       2007-05-27       715.0                  10%   \n",
       "3            6000.0       2007-05-27       698.0               38.64%   \n",
       "4            1500.0       2007-05-27       509.0                9.43%   \n",
       "\n",
       "  Zip Code State Employment Length  Policy Code  \n",
       "0    481xx    NM           4 years            0  \n",
       "1    010xx    MA          < 1 year            0  \n",
       "2    212xx    MD            1 year            0  \n",
       "3    017xx    MA          < 1 year            0  \n",
       "4    209xx    MD          < 1 year            0  "
      ]
     },
     "execution_count": 15,
     "metadata": {},
     "output_type": "execute_result"
    }
   ],
   "source": [
    "lc.head()"
   ]
  },
  {
   "cell_type": "code",
   "execution_count": 16,
   "id": "fe8e25ba",
   "metadata": {},
   "outputs": [],
   "source": [
    "lc_final['Employment Length'] = lc_final['Employment Length'].str.replace('years','')"
   ]
  },
  {
   "cell_type": "code",
   "execution_count": 17,
   "id": "2f41356e",
   "metadata": {},
   "outputs": [],
   "source": [
    "lc_final['Employment Length'] = lc_final['Employment Length'].str.replace('year','')"
   ]
  },
  {
   "cell_type": "code",
   "execution_count": 18,
   "id": "435c8c91",
   "metadata": {},
   "outputs": [],
   "source": [
    "lc_final['Employment Length'] = lc_final['Employment Length'].str.replace('+','' , regex= False)"
   ]
  },
  {
   "cell_type": "code",
   "execution_count": 19,
   "id": "24bd71f5",
   "metadata": {},
   "outputs": [],
   "source": [
    "lc_final['Employment Length'] = lc_final['Employment Length'].str.replace('< 1','0.5')"
   ]
  },
  {
   "cell_type": "code",
   "execution_count": 20,
   "id": "ccafa4a6",
   "metadata": {},
   "outputs": [],
   "source": [
    "lc_final['Employment Length'] = lc_final['Employment Length'].astype('float')"
   ]
  },
  {
   "cell_type": "code",
   "execution_count": 21,
   "id": "4c8207e9",
   "metadata": {},
   "outputs": [
    {
     "data": {
      "text/plain": [
       "0    4.0\n",
       "1    0.5\n",
       "2    1.0\n",
       "3    0.5\n",
       "4    0.5\n",
       "Name: Employment Length, dtype: float64"
      ]
     },
     "execution_count": 21,
     "metadata": {},
     "output_type": "execute_result"
    }
   ],
   "source": [
    "lc_final['Employment Length'].head()"
   ]
  },
  {
   "cell_type": "markdown",
   "id": "1cd88a4e",
   "metadata": {},
   "source": [
    "### Performing Imputation of Risk_score column"
   ]
  },
  {
   "cell_type": "code",
   "execution_count": 22,
   "id": "f405c1dc",
   "metadata": {},
   "outputs": [],
   "source": [
    "lc.Risk_Score.fillna(lc['Risk_Score'].mean(), inplace = True)"
   ]
  },
  {
   "cell_type": "code",
   "execution_count": 23,
   "id": "23e547b0",
   "metadata": {},
   "outputs": [
    {
     "name": "stdout",
     "output_type": "stream",
     "text": [
      "Amount Requested        0.00\n",
      "Application Date        0.00\n",
      "Risk_Score              0.00\n",
      "Debt-To-Income Ratio    0.00\n",
      "Zip Code                0.00\n",
      "State                   0.00\n",
      "Employment Length       3.44\n",
      "Policy Code             0.00\n",
      "dtype: float64\n"
     ]
    }
   ],
   "source": [
    "d = np.where(lc.isnull().sum(axis=1)>10)\n",
    "lc = lc.drop(lc.index[d])\n",
    "print(round(100*(1-lc.count()/len(lc)),2))"
   ]
  },
  {
   "cell_type": "code",
   "execution_count": 24,
   "id": "fc516f7b",
   "metadata": {},
   "outputs": [
    {
     "data": {
      "text/html": [
       "<div>\n",
       "<style scoped>\n",
       "    .dataframe tbody tr th:only-of-type {\n",
       "        vertical-align: middle;\n",
       "    }\n",
       "\n",
       "    .dataframe tbody tr th {\n",
       "        vertical-align: top;\n",
       "    }\n",
       "\n",
       "    .dataframe thead th {\n",
       "        text-align: right;\n",
       "    }\n",
       "</style>\n",
       "<table border=\"1\" class=\"dataframe\">\n",
       "  <thead>\n",
       "    <tr style=\"text-align: right;\">\n",
       "      <th></th>\n",
       "      <th>Amount Requested</th>\n",
       "      <th>Application Date</th>\n",
       "      <th>Risk_Score</th>\n",
       "      <th>Debt-To-Income Ratio</th>\n",
       "      <th>Zip Code</th>\n",
       "      <th>State</th>\n",
       "      <th>Employment Length</th>\n",
       "      <th>Policy Code</th>\n",
       "    </tr>\n",
       "  </thead>\n",
       "  <tbody>\n",
       "    <tr>\n",
       "      <th>4166782</th>\n",
       "      <td>20000.0</td>\n",
       "      <td>2017-03-16</td>\n",
       "      <td>628.17209</td>\n",
       "      <td>37.95%</td>\n",
       "      <td>370xx</td>\n",
       "      <td>TN</td>\n",
       "      <td>10.0</td>\n",
       "      <td>3</td>\n",
       "    </tr>\n",
       "    <tr>\n",
       "      <th>4166783</th>\n",
       "      <td>10000.0</td>\n",
       "      <td>2017-03-16</td>\n",
       "      <td>628.17209</td>\n",
       "      <td>19.18%</td>\n",
       "      <td>243xx</td>\n",
       "      <td>VA</td>\n",
       "      <td>10.0</td>\n",
       "      <td>0</td>\n",
       "    </tr>\n",
       "    <tr>\n",
       "      <th>4166784</th>\n",
       "      <td>4000.0</td>\n",
       "      <td>2017-03-16</td>\n",
       "      <td>649.00000</td>\n",
       "      <td>16%</td>\n",
       "      <td>028xx</td>\n",
       "      <td>RI</td>\n",
       "      <td>0.5</td>\n",
       "      <td>0</td>\n",
       "    </tr>\n",
       "  </tbody>\n",
       "</table>\n",
       "</div>"
      ],
      "text/plain": [
       "         Amount Requested Application Date  Risk_Score Debt-To-Income Ratio  \\\n",
       "4166782           20000.0       2017-03-16   628.17209               37.95%   \n",
       "4166783           10000.0       2017-03-16   628.17209               19.18%   \n",
       "4166784            4000.0       2017-03-16   649.00000                  16%   \n",
       "\n",
       "        Zip Code State  Employment Length  Policy Code  \n",
       "4166782    370xx    TN               10.0            3  \n",
       "4166783    243xx    VA               10.0            0  \n",
       "4166784    028xx    RI                0.5            0  "
      ]
     },
     "execution_count": 24,
     "metadata": {},
     "output_type": "execute_result"
    }
   ],
   "source": [
    "lc.iloc[4166782:4166785] #628.17209 is the mean value"
   ]
  },
  {
   "cell_type": "markdown",
   "id": "2ba2deb8",
   "metadata": {},
   "source": [
    "### Scaling down debt to income column"
   ]
  },
  {
   "cell_type": "code",
   "execution_count": 25,
   "id": "a2f83cf3",
   "metadata": {},
   "outputs": [],
   "source": [
    "#from sklearn.preprocessing import MinMaxScaler"
   ]
  },
  {
   "cell_type": "code",
   "execution_count": 26,
   "id": "3e2237ed",
   "metadata": {},
   "outputs": [],
   "source": [
    "#lc['Debt-To-Income Ratio'] = lc['Debt-To-Income Ratio'].str.replace('%','')"
   ]
  },
  {
   "cell_type": "code",
   "execution_count": 27,
   "id": "e4c6563b",
   "metadata": {},
   "outputs": [],
   "source": [
    "#lc['Debt-To-Income Ratio'].astype('float')"
   ]
  },
  {
   "cell_type": "code",
   "execution_count": 28,
   "id": "c4b51280",
   "metadata": {},
   "outputs": [],
   "source": [
    "#scaler = MinMaxScaler(feature_range=(1, 100))"
   ]
  },
  {
   "cell_type": "code",
   "execution_count": 29,
   "id": "ee88e40e",
   "metadata": {},
   "outputs": [],
   "source": [
    "#lc[['Debt-To-Income Ratio']] = scaler.fit_transform(lc[[\"Debt-To-Income Ratio\"]])\n",
    "#lc[['Debt-To-Income Ratio']]"
   ]
  },
  {
   "cell_type": "code",
   "execution_count": 30,
   "id": "f5a93c5a",
   "metadata": {},
   "outputs": [],
   "source": [
    "#lc['Debt-To-Income Ratio'].max()"
   ]
  },
  {
   "cell_type": "code",
   "execution_count": 31,
   "id": "bfa59f3d",
   "metadata": {},
   "outputs": [],
   "source": [
    "#lc.Risk_Score = lc.Risk_Score.round(2)"
   ]
  },
  {
   "cell_type": "code",
   "execution_count": 32,
   "id": "342ba9a8",
   "metadata": {},
   "outputs": [
    {
     "data": {
      "text/html": [
       "<div>\n",
       "<style scoped>\n",
       "    .dataframe tbody tr th:only-of-type {\n",
       "        vertical-align: middle;\n",
       "    }\n",
       "\n",
       "    .dataframe tbody tr th {\n",
       "        vertical-align: top;\n",
       "    }\n",
       "\n",
       "    .dataframe thead th {\n",
       "        text-align: right;\n",
       "    }\n",
       "</style>\n",
       "<table border=\"1\" class=\"dataframe\">\n",
       "  <thead>\n",
       "    <tr style=\"text-align: right;\">\n",
       "      <th></th>\n",
       "      <th>Amount Requested</th>\n",
       "      <th>Application Date</th>\n",
       "      <th>Risk_Score</th>\n",
       "      <th>Debt-To-Income Ratio</th>\n",
       "      <th>Zip Code</th>\n",
       "      <th>State</th>\n",
       "      <th>Employment Length</th>\n",
       "      <th>Policy Code</th>\n",
       "    </tr>\n",
       "  </thead>\n",
       "  <tbody>\n",
       "    <tr>\n",
       "      <th>0</th>\n",
       "      <td>1000.0</td>\n",
       "      <td>2007-05-26</td>\n",
       "      <td>693.00000</td>\n",
       "      <td>10%</td>\n",
       "      <td>481xx</td>\n",
       "      <td>NM</td>\n",
       "      <td>4.0</td>\n",
       "      <td>0</td>\n",
       "    </tr>\n",
       "    <tr>\n",
       "      <th>1</th>\n",
       "      <td>1000.0</td>\n",
       "      <td>2007-05-26</td>\n",
       "      <td>703.00000</td>\n",
       "      <td>10%</td>\n",
       "      <td>010xx</td>\n",
       "      <td>MA</td>\n",
       "      <td>0.5</td>\n",
       "      <td>0</td>\n",
       "    </tr>\n",
       "    <tr>\n",
       "      <th>2</th>\n",
       "      <td>11000.0</td>\n",
       "      <td>2007-05-27</td>\n",
       "      <td>715.00000</td>\n",
       "      <td>10%</td>\n",
       "      <td>212xx</td>\n",
       "      <td>MD</td>\n",
       "      <td>1.0</td>\n",
       "      <td>0</td>\n",
       "    </tr>\n",
       "    <tr>\n",
       "      <th>3</th>\n",
       "      <td>6000.0</td>\n",
       "      <td>2007-05-27</td>\n",
       "      <td>698.00000</td>\n",
       "      <td>38.64%</td>\n",
       "      <td>017xx</td>\n",
       "      <td>MA</td>\n",
       "      <td>0.5</td>\n",
       "      <td>0</td>\n",
       "    </tr>\n",
       "    <tr>\n",
       "      <th>4</th>\n",
       "      <td>1500.0</td>\n",
       "      <td>2007-05-27</td>\n",
       "      <td>509.00000</td>\n",
       "      <td>9.43%</td>\n",
       "      <td>209xx</td>\n",
       "      <td>MD</td>\n",
       "      <td>0.5</td>\n",
       "      <td>0</td>\n",
       "    </tr>\n",
       "    <tr>\n",
       "      <th>...</th>\n",
       "      <td>...</td>\n",
       "      <td>...</td>\n",
       "      <td>...</td>\n",
       "      <td>...</td>\n",
       "      <td>...</td>\n",
       "      <td>...</td>\n",
       "      <td>...</td>\n",
       "      <td>...</td>\n",
       "    </tr>\n",
       "    <tr>\n",
       "      <th>27648736</th>\n",
       "      <td>10000.0</td>\n",
       "      <td>2016-12-31</td>\n",
       "      <td>590.00000</td>\n",
       "      <td>41.26%</td>\n",
       "      <td>441xx</td>\n",
       "      <td>OH</td>\n",
       "      <td>0.5</td>\n",
       "      <td>0</td>\n",
       "    </tr>\n",
       "    <tr>\n",
       "      <th>27648737</th>\n",
       "      <td>10000.0</td>\n",
       "      <td>2016-12-31</td>\n",
       "      <td>628.17209</td>\n",
       "      <td>1.48%</td>\n",
       "      <td>207xx</td>\n",
       "      <td>MD</td>\n",
       "      <td>5.0</td>\n",
       "      <td>0</td>\n",
       "    </tr>\n",
       "    <tr>\n",
       "      <th>27648738</th>\n",
       "      <td>1200.0</td>\n",
       "      <td>2016-12-31</td>\n",
       "      <td>686.00000</td>\n",
       "      <td>10.26%</td>\n",
       "      <td>914xx</td>\n",
       "      <td>CA</td>\n",
       "      <td>0.5</td>\n",
       "      <td>0</td>\n",
       "    </tr>\n",
       "    <tr>\n",
       "      <th>27648739</th>\n",
       "      <td>25000.0</td>\n",
       "      <td>2016-12-31</td>\n",
       "      <td>628.17209</td>\n",
       "      <td>17.71%</td>\n",
       "      <td>880xx</td>\n",
       "      <td>NM</td>\n",
       "      <td>0.5</td>\n",
       "      <td>0</td>\n",
       "    </tr>\n",
       "    <tr>\n",
       "      <th>27648740</th>\n",
       "      <td>15000.0</td>\n",
       "      <td>2016-12-31</td>\n",
       "      <td>684.00000</td>\n",
       "      <td>10.58%</td>\n",
       "      <td>113xx</td>\n",
       "      <td>NY</td>\n",
       "      <td>0.5</td>\n",
       "      <td>0</td>\n",
       "    </tr>\n",
       "  </tbody>\n",
       "</table>\n",
       "<p>27648741 rows × 8 columns</p>\n",
       "</div>"
      ],
      "text/plain": [
       "          Amount Requested Application Date  Risk_Score Debt-To-Income Ratio  \\\n",
       "0                   1000.0       2007-05-26   693.00000                  10%   \n",
       "1                   1000.0       2007-05-26   703.00000                  10%   \n",
       "2                  11000.0       2007-05-27   715.00000                  10%   \n",
       "3                   6000.0       2007-05-27   698.00000               38.64%   \n",
       "4                   1500.0       2007-05-27   509.00000                9.43%   \n",
       "...                    ...              ...         ...                  ...   \n",
       "27648736           10000.0       2016-12-31   590.00000               41.26%   \n",
       "27648737           10000.0       2016-12-31   628.17209                1.48%   \n",
       "27648738            1200.0       2016-12-31   686.00000               10.26%   \n",
       "27648739           25000.0       2016-12-31   628.17209               17.71%   \n",
       "27648740           15000.0       2016-12-31   684.00000               10.58%   \n",
       "\n",
       "         Zip Code State  Employment Length  Policy Code  \n",
       "0           481xx    NM                4.0            0  \n",
       "1           010xx    MA                0.5            0  \n",
       "2           212xx    MD                1.0            0  \n",
       "3           017xx    MA                0.5            0  \n",
       "4           209xx    MD                0.5            0  \n",
       "...           ...   ...                ...          ...  \n",
       "27648736    441xx    OH                0.5            0  \n",
       "27648737    207xx    MD                5.0            0  \n",
       "27648738    914xx    CA                0.5            0  \n",
       "27648739    880xx    NM                0.5            0  \n",
       "27648740    113xx    NY                0.5            0  \n",
       "\n",
       "[27648741 rows x 8 columns]"
      ]
     },
     "execution_count": 32,
     "metadata": {},
     "output_type": "execute_result"
    }
   ],
   "source": [
    "lc"
   ]
  }
 ],
 "metadata": {
  "kernelspec": {
   "display_name": "Python 3",
   "language": "python",
   "name": "python3"
  },
  "language_info": {
   "codemirror_mode": {
    "name": "ipython",
    "version": 3
   },
   "file_extension": ".py",
   "mimetype": "text/x-python",
   "name": "python",
   "nbconvert_exporter": "python",
   "pygments_lexer": "ipython3",
   "version": "3.9.5"
  }
 },
 "nbformat": 4,
 "nbformat_minor": 5
}
